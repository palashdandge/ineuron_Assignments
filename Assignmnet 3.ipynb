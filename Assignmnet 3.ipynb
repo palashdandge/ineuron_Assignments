{
 "cells": [
  {
   "cell_type": "markdown",
   "metadata": {},
   "source": [
    "* 1"
   ]
  },
  {
   "cell_type": "code",
   "execution_count": 79,
   "metadata": {},
   "outputs": [
    {
     "name": "stdout",
     "output_type": "stream",
     "text": [
      "79\n",
      "134\n",
      "163\n",
      "263\n",
      "thsi is the Reduce :  263\n"
     ]
    }
   ],
   "source": [
    "def myreduce(fun , seq): # created fynction as it takes two arguments\n",
    "    result = seq[0]\n",
    "    for i in range(1 ,len(seq)):  # 1 is like [1:] it means leaving the 1st value all the values will be considered\n",
    "        result = fun(result , seq[i])\n",
    "        print(result)\n",
    "    return(result)\n",
    "    \n",
    "def add(a,b):\n",
    "    sum = a+b\n",
    "    return sum\n",
    "\n",
    "lst = [34,45,55,29,100]\n",
    "\n",
    "print(\"thsi is the Reduce : \" , myreduce(add , lst))\n"
   ]
  },
  {
   "cell_type": "markdown",
   "metadata": {},
   "source": [
    "* 2"
   ]
  },
  {
   "cell_type": "code",
   "execution_count": 81,
   "metadata": {},
   "outputs": [
    {
     "data": {
      "text/plain": [
       "[None, 2, None, 4, None, 6, None, 8, None, 10]"
      ]
     },
     "execution_count": 81,
     "metadata": {},
     "output_type": "execute_result"
    }
   ],
   "source": [
    "def myfilter(n):\n",
    "    if n%2==0:\n",
    "        return n\n",
    "\n",
    "a = map(myfilter , [1,2,3,4,5,6,7,8,9,10])\n",
    "list(a)"
   ]
  }
 ],
 "metadata": {
  "kernelspec": {
   "display_name": "Python 3",
   "language": "python",
   "name": "python3"
  },
  "language_info": {
   "codemirror_mode": {
    "name": "ipython",
    "version": 3
   },
   "file_extension": ".py",
   "mimetype": "text/x-python",
   "name": "python",
   "nbconvert_exporter": "python",
   "pygments_lexer": "ipython3",
   "version": "3.8.3"
  }
 },
 "nbformat": 4,
 "nbformat_minor": 4
}
