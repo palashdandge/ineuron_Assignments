{
 "cells": [
  {
   "cell_type": "markdown",
   "metadata": {},
   "source": [
    "* 1.1  Write a Python Program to implement your own myReduce() Function which works Exactly like python Inbuilt Reduce() function"
   ]
  },
  {
   "cell_type": "code",
   "execution_count": 33,
   "metadata": {},
   "outputs": [
    {
     "name": "stdout",
     "output_type": "stream",
     "text": [
      "79\n",
      "134\n",
      "163\n",
      "263\n",
      "this is my reduce Function 263\n"
     ]
    }
   ],
   "source": [
    "def myreduce(fun , data):\n",
    "    result = data[0]\n",
    "    for i in range(1 , len(data)):\n",
    "        result = fun(result , data[i])\n",
    "        print(result)\n",
    "    return result\n",
    "\n",
    "def add(a,b):\n",
    "    return a + b\n",
    "\n",
    "lst = [34,45,55,29,100]        \n",
    "print(\"this is my reduce Function\" ,myreduce(add , lst))"
   ]
  },
  {
   "cell_type": "markdown",
   "metadata": {},
   "source": [
    "* 1.2  Write a Python Program to implement your own myfilter() function which works Exactly like python Inbuilt filter ()function"
   ]
  },
  {
   "cell_type": "code",
   "execution_count": 81,
   "metadata": {},
   "outputs": [
    {
     "data": {
      "text/plain": [
       "[None, 2, None, 4, None, 6, None, 8, None, 10]"
      ]
     },
     "execution_count": 81,
     "metadata": {},
     "output_type": "execute_result"
    }
   ],
   "source": [
    "def myfilter(n):\n",
    "    if n%2==0:\n",
    "        return n\n",
    "\n",
    "a = map(myfilter , [1,2,3,4,5,6,7,8,9,10])\n",
    "list(a)"
   ]
  },
  {
   "cell_type": "markdown",
   "metadata": {},
   "source": [
    "* 3. Implement List Compherence to produce the Following List\n"
   ]
  },
  {
   "cell_type": "code",
   "execution_count": 22,
   "metadata": {},
   "outputs": [
    {
     "name": "stdout",
     "output_type": "stream",
     "text": [
      "['x', 'xx', 'xxx', 'xxxx', 'y', 'yy', 'yyy', 'yyyy', 'z', 'zz', 'zzz', 'zzzz']\n",
      "['x', 'y', 'z', 'xx', 'yy', 'zz', 'xxx', 'yyy', ' zzz', 'xxxx', 'yyyy', 'zzzz']\n",
      "([[2], [3], [4], [3], [4], [5], [6]], [[2, 3, 4, 5], [3, 4, 5, 6], [4, 5, 6, 7], [5, 6, 7, 8]])\n",
      "[(1, 1), (2, 1), (3, 1), (1, 2), (2, 2), (3, 2), (1, 3), (2, 3), (3, 3)]\n"
     ]
    }
   ],
   "source": [
    "lst1 = ['x' ,'xx' ,'xxx','xxxx' , 'y' , 'yy' , 'yyy' , 'yyyy' , 'z' , 'zz' , 'zzz' , 'zzzz']\n",
    "lst2 = ['x' ,  'y' , 'z' , 'xx' , 'yy' , 'zz' , 'xxx' , 'yyy' , ' zzz' , 'xxxx' , 'yyyy', 'zzzz',]\n",
    "lst3 = [[2],[3],[4],[3],[4],[5],[6]],[[2,3,4,5],[3,4,5,6],[4,5,6,7] ,[5,6,7,8]]\n",
    "lst4 = [(1,1) ,(2,1) ,(3,1) , (1,2) ,(2,2),(3,2) , (1,3),(2,3),(3,3)]\n",
    "\n",
    "lst_comp = [lst1,lst2,lst3,lst4 ]\n",
    "for i in lst_comp:\n",
    "    print(i)"
   ]
  },
  {
   "cell_type": "code",
   "execution_count": null,
   "metadata": {},
   "outputs": [],
   "source": []
  },
  {
   "cell_type": "code",
   "execution_count": null,
   "metadata": {},
   "outputs": [],
   "source": []
  },
  {
   "cell_type": "code",
   "execution_count": null,
   "metadata": {},
   "outputs": [],
   "source": []
  },
  {
   "cell_type": "code",
   "execution_count": null,
   "metadata": {},
   "outputs": [],
   "source": []
  },
  {
   "cell_type": "code",
   "execution_count": null,
   "metadata": {},
   "outputs": [],
   "source": []
  },
  {
   "cell_type": "code",
   "execution_count": null,
   "metadata": {},
   "outputs": [],
   "source": []
  },
  {
   "cell_type": "code",
   "execution_count": null,
   "metadata": {},
   "outputs": [],
   "source": []
  },
  {
   "cell_type": "code",
   "execution_count": null,
   "metadata": {},
   "outputs": [],
   "source": []
  },
  {
   "cell_type": "code",
   "execution_count": null,
   "metadata": {},
   "outputs": [],
   "source": []
  },
  {
   "cell_type": "code",
   "execution_count": null,
   "metadata": {},
   "outputs": [],
   "source": []
  }
 ],
 "metadata": {
  "kernelspec": {
   "display_name": "Python 3",
   "language": "python",
   "name": "python3"
  },
  "language_info": {
   "codemirror_mode": {
    "name": "ipython",
    "version": 3
   },
   "file_extension": ".py",
   "mimetype": "text/x-python",
   "name": "python",
   "nbconvert_exporter": "python",
   "pygments_lexer": "ipython3",
   "version": "3.8.3"
  }
 },
 "nbformat": 4,
 "nbformat_minor": 4
}
