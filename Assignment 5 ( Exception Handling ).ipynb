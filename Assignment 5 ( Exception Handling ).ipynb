{
 "cells": [
  {
   "cell_type": "code",
   "execution_count": 4,
   "metadata": {},
   "outputs": [
    {
     "name": "stdout",
     "output_type": "stream",
     "text": [
      "Error\n"
     ]
    }
   ],
   "source": [
    "def exception():\n",
    "    try:\n",
    "        5 / 0\n",
    "    except:\n",
    "        print(\"Error :- Division by ZERO gives an Infinity\")\n",
    "exception()"
   ]
  },
  {
   "cell_type": "code",
   "execution_count": 9,
   "metadata": {},
   "outputs": [
    {
     "name": "stdout",
     "output_type": "stream",
     "text": [
      "America play Baseball\n",
      "America play Cricket\n",
      "America watch Baseball\n",
      "America watch Cricket\n",
      "Indians play Baseball\n",
      "Indians play Cricket\n",
      "Indians watch Baseball\n",
      "Indians watch Cricket\n"
     ]
    }
   ],
   "source": [
    "sub = [\"America\" , \"Indians\"]\n",
    "verbs = [\"play\" , \"watch\"]\n",
    "obj = [\"Baseball\" , \"Cricket\"]\n",
    "\n",
    "for s in sub :\n",
    "    for v in verbs:\n",
    "        for o in obj:\n",
    "            print(s,v,o)"
   ]
  }
 ],
 "metadata": {
  "kernelspec": {
   "display_name": "Python 3",
   "language": "python",
   "name": "python3"
  },
  "language_info": {
   "codemirror_mode": {
    "name": "ipython",
    "version": 3
   },
   "file_extension": ".py",
   "mimetype": "text/x-python",
   "name": "python",
   "nbconvert_exporter": "python",
   "pygments_lexer": "ipython3",
   "version": "3.8.3"
  }
 },
 "nbformat": 4,
 "nbformat_minor": 4
}
