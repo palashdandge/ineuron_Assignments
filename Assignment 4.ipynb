{
 "cells": [
  {
   "cell_type": "markdown",
   "metadata": {},
   "source": [
    "### 1. 1   write a Python Program (with class concept) to find the area of the Triangle using the formula "
   ]
  },
  {
   "cell_type": "code",
   "execution_count": 90,
   "metadata": {
    "scrolled": true
   },
   "outputs": [
    {
     "name": "stdout",
     "output_type": "stream",
     "text": [
      "A = 12\n",
      "B = 33\n",
      "C = 33\n",
      "area :  194.6997688750554\n"
     ]
    }
   ],
   "source": [
    "class class_name:\n",
    "    def __init__(self,a,b,c):\n",
    "        self.a = float(a)\n",
    "        self.b = float(b)\n",
    "        self.c = float(c)\n",
    "a = int(input(\"A = \"))\n",
    "b = int(input(\"B = \"))\n",
    "c = int(input(\"C = \"))\n",
    "\n",
    "class triangle(class_name):\n",
    "    def __init__(self,a,b,c):\n",
    "        super().__init__(a,b,c)\n",
    "\n",
    "    def get_area(self):\n",
    "        s = (a + b + c) / 2\n",
    "        return (s*(s-a)*(s-b)*(s-c)) ** 0.5        \n",
    "\n",
    "t_obj = triangle(a,b,c)\n",
    "print(\"area : \" ,(t_obj.get_area()))"
   ]
  },
  {
   "cell_type": "markdown",
   "metadata": {},
   "source": [
    "### 1.2  write a Function filter_long_words() that takes a list of words and an integer n and returns the list of words that are longer than n"
   ]
  },
  {
   "cell_type": "code",
   "execution_count": 123,
   "metadata": {},
   "outputs": [
    {
     "data": {
      "text/plain": [
       "['hello', 'am', 'Palash', 'Dandge']"
      ]
     },
     "execution_count": 123,
     "metadata": {},
     "output_type": "execute_result"
    }
   ],
   "source": [
    "def filter_long_words(list_of_words , n):\n",
    "    \n",
    "    returning_the_final_list = []\n",
    "    for i in list_of_words:\n",
    "        if len(i) > n:\n",
    "            returning_the_final_list.append(i) \n",
    "    return returning_the_final_list\n",
    "            \n",
    "num = 1\n",
    "words = [\"hello\" ,\"i\" , 'am', \"Palash\" ,\"Dandge\"]\n",
    "\n",
    "filter_long_words(words , num)"
   ]
  },
  {
   "cell_type": "markdown",
   "metadata": {},
   "source": [
    "### 2. write a python code using function concept that maps the list of words into a list of integer representing the length of the Corresponding Words"
   ]
  },
  {
   "cell_type": "code",
   "execution_count": 88,
   "metadata": {},
   "outputs": [
    {
     "name": "stdout",
     "output_type": "stream",
     "text": [
      "[3, 4, 5, 6, 8]\n"
     ]
    }
   ],
   "source": [
    "def length(words):\n",
    "    return len(words)\n",
    "\n",
    "lst = [\"abc\" ,\"defg\" , 'hijkl' ,'mnopqr' , 'stuvwxyz']\n",
    "final = list(map(length , lst))\n",
    "print(final)"
   ]
  },
  {
   "cell_type": "markdown",
   "metadata": {},
   "source": [
    "### 3. write a python function Which takes a characters (i.e a string of length 1) and returns True if it is vowel ,False otherwise"
   ]
  },
  {
   "cell_type": "code",
   "execution_count": 146,
   "metadata": {},
   "outputs": [
    {
     "data": {
      "text/plain": [
       "(True, True, True, False, True)"
      ]
     },
     "execution_count": 146,
     "metadata": {},
     "output_type": "execute_result"
    }
   ],
   "source": [
    " def func(i):\n",
    "        vowel = ['a' , 'e' ,'i' , 'o ' , 'u']\n",
    "        if i in vowel:\n",
    "            return True \n",
    "        return False\n",
    "func('a') ,func('e') , func('i') , func('o' ) , func('u')\n"
   ]
  },
  {
   "cell_type": "code",
   "execution_count": null,
   "metadata": {},
   "outputs": [],
   "source": []
  },
  {
   "cell_type": "code",
   "execution_count": null,
   "metadata": {},
   "outputs": [],
   "source": []
  }
 ],
 "metadata": {
  "kernelspec": {
   "display_name": "Python 3",
   "language": "python",
   "name": "python3"
  },
  "language_info": {
   "codemirror_mode": {
    "name": "ipython",
    "version": 3
   },
   "file_extension": ".py",
   "mimetype": "text/x-python",
   "name": "python",
   "nbconvert_exporter": "python",
   "pygments_lexer": "ipython3",
   "version": "3.8.3"
  }
 },
 "nbformat": 4,
 "nbformat_minor": 4
}
